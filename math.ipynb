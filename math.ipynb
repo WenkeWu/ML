{
 "cells": [
  {
   "cell_type": "code",
   "execution_count": null,
   "id": "024a0e13",
   "metadata": {},
   "outputs": [],
   "source": [
    "#the symbols ∈ (x is an element of y in our formal language as (x ∈ y).) and =, the logical connectives ∧ (conjunction, and), ∨ (disjunction, non\u0002exclusive or), \n",
    "#¬ (negation), ⇒ (implication), ⇐⇒ (equivalence), and the quan\u0002tifiers ∀ (for every) and ∃ (there exists).\n",
    "#, ∈/. By x /∈ y we mean ¬(x ∈ y),\n",
    "#  acronym ”iff” which means ”if and only if” \n",
    "# Axiom 1.1 (Existence)  ∃x x = x\n",
    "#Axiom 1.2 (Extensionality) ∀x ∀y (∀z(z∈x  ⇐⇒  z∈y) ⇒ x=y)\n",
    "# The interpretation of Axiom 1.2 is that two sets are equal if they have the same elements. The converse implication\n",
    "# ∀x ∀y (x=y ⇒ ∀z(z∈x  ⇐⇒  z∈y)  )"
   ]
  },
  {
   "cell_type": "code",
   "execution_count": null,
   "id": "756e241c",
   "metadata": {},
   "outputs": [],
   "source": []
  }
 ],
 "metadata": {
  "kernelspec": {
   "display_name": "Python 3 (ipykernel)",
   "language": "python",
   "name": "python3"
  },
  "language_info": {
   "codemirror_mode": {
    "name": "ipython",
    "version": 3
   },
   "file_extension": ".py",
   "mimetype": "text/x-python",
   "name": "python",
   "nbconvert_exporter": "python",
   "pygments_lexer": "ipython3",
   "version": "3.10.12"
  }
 },
 "nbformat": 4,
 "nbformat_minor": 5
}
