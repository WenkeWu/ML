{
 "cells": [
  {
   "cell_type": "code",
   "execution_count": 1,
   "id": "bb5fb0fc",
   "metadata": {},
   "outputs": [
    {
     "name": "stdout",
     "output_type": "stream",
     "text": [
      "hello, world!\n",
      "你好 世界\n",
      "hello, world!goodbye, world!\n"
     ]
    }
   ],
   "source": [
    "print('hello, world!')\n",
    "# print(\"你好,世界！\")\n",
    "print('你好', '世界')\n",
    "print('hello', 'world', sep=', ', end='!')\n",
    "print('goodbye, world', end='!\\n')"
   ]
  },
  {
   "cell_type": "code",
   "execution_count": 3,
   "id": "40560277",
   "metadata": {},
   "outputs": [
    {
     "name": "stdout",
     "output_type": "stream",
     "text": [
      "444\n",
      "198\n",
      "39483\n",
      "2.6097560975609757\n",
      "2\n",
      "75\n",
      "199580904170858944588683464608694075062943107082809027605498347841561605181074274426665986623764972439807786764739130193391688887305693295698132008415537889753720415793877902074665765736230030622222862498385818118244547668141388643750880896837470534556730014314212951333550122949806119583030226121714710874561\n"
     ]
    }
   ],
   "source": [
    "a = 321\n",
    "b = 123\n",
    "print(a + b)\n",
    "print(a - b)\n",
    "print(a * b)\n",
    "print(a / b)\n",
    "print(a // b)\n",
    "print(a % b)\n",
    "print(a ** b)"
   ]
  },
  {
   "cell_type": "markdown",
   "id": "b1b56433",
   "metadata": {},
   "source": [
    "a = int(input('a = '))\n",
    "b = int(input('b = '))\n",
    "print(a + b)\n",
    "print(a - b)\n",
    "print(a * b)\n",
    "print(a / b)\n",
    "print(a // b)\n",
    "print(a % b)\n",
    "print(a ** b)"
   ]
  },
  {
   "cell_type": "code",
   "execution_count": null,
   "id": "55dff3c8",
   "metadata": {},
   "outputs": [],
   "source": [
    "a = int(input('a = '))\n",
    "b = int(input('b = '))\n",
    "print('%d + %d = %d' % (a, b, a + b))\n",
    "print('%d - %d = %d' % (a, b, a - b))\n",
    "print('%d * %d = %d' % (a, b, a * b))\n",
    "print('%d / %d = %f' % (a, b, a / b))\n",
    "print('%d // %d = %d' % (a, b, a // b))\n",
    "print('%d %% %d = %d' % (a, b, a % b))\n",
    "print('%d ** %d = %d' % (a, b, a ** b))"
   ]
  },
  {
   "cell_type": "code",
   "execution_count": null,
   "id": "634ac98f",
   "metadata": {},
   "outputs": [],
   "source": [
    "a = 100\n",
    "b = 1000000000000000000\n",
    "c = 12.345\n",
    "d = 1 + 5j\n",
    "e = 'A'\n",
    "f = 'hello, world'\n",
    "g = True\n",
    "print(type(a))\n",
    "print(type(b))\n",
    "print(type(c))\n",
    "print(type(d))\n",
    "print(type(e))\n",
    "print(type(f))\n",
    "print(type(g))"
   ]
  },
  {
   "cell_type": "code",
   "execution_count": 9,
   "id": "9b8acd3c",
   "metadata": {},
   "outputs": [
    {
     "name": "stdout",
     "output_type": "stream",
     "text": [
      "100\n",
      "<class 'int'>\n",
      "100\n",
      "<class 'str'>\n"
     ]
    }
   ],
   "source": [
    "a = 100\n",
    "b = str(a)\n",
    "print(a)\n",
    "print(type(a))\n",
    "print(b)\n",
    "print(type(b))\n"
   ]
  },
  {
   "cell_type": "code",
   "execution_count": 10,
   "id": "88b45a72",
   "metadata": {},
   "outputs": [
    {
     "name": "stdout",
     "output_type": "stream",
     "text": [
      "12.345\n",
      "<class 'float'>\n",
      "12.345\n",
      "<class 'str'>\n"
     ]
    }
   ],
   "source": [
    "c = 12.345\n",
    "d = str(c)\n",
    "print(c)\n",
    "print(type(c))\n",
    "print(d)\n",
    "print(type(d))"
   ]
  },
  {
   "cell_type": "code",
   "execution_count": 11,
   "id": "577d3388",
   "metadata": {},
   "outputs": [
    {
     "name": "stdout",
     "output_type": "stream",
     "text": [
      "123\n",
      "<class 'str'>\n",
      "123\n",
      "<class 'int'>\n",
      "123.456\n",
      "<class 'str'>\n",
      "123.456\n",
      "<class 'float'>\n"
     ]
    }
   ],
   "source": [
    "e = '123'\n",
    "f = int(e)\n",
    "g = '123.456'\n",
    "h = float(g)\n",
    "print(e)\n",
    "print(type(e))\n",
    "print(f)\n",
    "print(type(f))\n",
    "print(g)\n",
    "print(type(g))\n",
    "print(h)\n",
    "print(type(h))"
   ]
  },
  {
   "cell_type": "code",
   "execution_count": 8,
   "id": "8a1f6c37",
   "metadata": {},
   "outputs": [
    {
     "name": "stdout",
     "output_type": "stream",
     "text": [
      "False\n",
      "<class 'bool'>\n",
      "False\n",
      "<class 'str'>\n",
      "hello\n",
      "<class 'str'>\n",
      "True\n",
      "<class 'bool'>\n"
     ]
    }
   ],
   "source": [
    "i = False\n",
    "j = str(i)\n",
    "k = 'hello'\n",
    "m = bool(k)\n",
    "print(i)\n",
    "print(type(i))\n",
    "print(j)\n",
    "print(type(j))\n",
    "print(k)\n",
    "print(type(k))\n",
    "print(m)\n",
    "print(type(m))"
   ]
  },
  {
   "cell_type": "code",
   "execution_count": 7,
   "id": "b13ea71b",
   "metadata": {},
   "outputs": [
    {
     "name": "stdout",
     "output_type": "stream",
     "text": [
      "字符串的长度是: 13\n",
      "单词首字母大写:  Hello, World!\n",
      "字符串变大写:  HELLO, WORLD!\n",
      "字符串是不是大写:  False\n",
      "字符串是不是以hello开头:  True\n",
      "字符串是不是以hello结尾:  False\n",
      "字符串是不是以感叹号开头:  False\n",
      "字符串是不是一感叹号结尾:  True\n",
      "Hello, World! - 骆昊\n"
     ]
    }
   ],
   "source": [
    "str1 = 'hello, world!'\n",
    "print('字符串的长度是:', len(str1))\n",
    "print('单词首字母大写: ', str1.title())\n",
    "print('字符串变大写: ', str1.upper())\n",
    "# str1 = str1.upper()\n",
    "print('字符串是不是大写: ', str1.isupper())\n",
    "print('字符串是不是以hello开头: ', str1.startswith('hello'))\n",
    "print('字符串是不是以hello结尾: ', str1.endswith('hello'))\n",
    "print('字符串是不是以感叹号开头: ', str1.startswith('!'))\n",
    "print('字符串是不是一感叹号结尾: ', str1.endswith('!'))\n",
    "str2 = '- \\u9a86\\u660a'\n",
    "str3 = str1.title() + ' ' + str2.lower()\n",
    "print(str3)"
   ]
  },
  {
   "cell_type": "code",
   "execution_count": 10,
   "id": "2d5e75f8",
   "metadata": {},
   "outputs": [
    {
     "data": {
      "text/plain": [
       "'2.1.0'"
      ]
     },
     "execution_count": 10,
     "metadata": {},
     "output_type": "execute_result"
    }
   ],
   "source": [
    "import tensorflow as tf\n",
    "tf.__version__"
   ]
  },
  {
   "cell_type": "code",
   "execution_count": 11,
   "id": "b8d20a95",
   "metadata": {},
   "outputs": [
    {
     "data": {
      "text/plain": [
       "tf.float32"
      ]
     },
     "execution_count": 11,
     "metadata": {},
     "output_type": "execute_result"
    }
   ],
   "source": [
    "a = tf.ones(6)\n",
    "b = tf.Variable(a,name='Data_point')\n",
    "b.dtype"
   ]
  },
  {
   "cell_type": "code",
   "execution_count": 12,
   "id": "c4eda6ae",
   "metadata": {},
   "outputs": [
    {
     "data": {
      "text/plain": [
       "'Data_point:0'"
      ]
     },
     "execution_count": 12,
     "metadata": {},
     "output_type": "execute_result"
    }
   ],
   "source": [
    "b.name"
   ]
  },
  {
   "cell_type": "code",
   "execution_count": 13,
   "id": "c9c076ad",
   "metadata": {},
   "outputs": [
    {
     "data": {
      "text/plain": [
       "True"
      ]
     },
     "execution_count": 13,
     "metadata": {},
     "output_type": "execute_result"
    }
   ],
   "source": [
    "b.trainable"
   ]
  },
  {
   "cell_type": "code",
   "execution_count": null,
   "id": "b9361cf0",
   "metadata": {},
   "outputs": [],
   "source": []
  }
 ],
 "metadata": {
  "kernelspec": {
   "display_name": "Python 3",
   "language": "python",
   "name": "python3"
  },
  "language_info": {
   "codemirror_mode": {
    "name": "ipython",
    "version": 3
   },
   "file_extension": ".py",
   "mimetype": "text/x-python",
   "name": "python",
   "nbconvert_exporter": "python",
   "pygments_lexer": "ipython3",
   "version": "3.6.13"
  }
 },
 "nbformat": 4,
 "nbformat_minor": 5
}
